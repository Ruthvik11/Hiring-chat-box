{
 "cells": [
  {
   "cell_type": "code",
   "execution_count": 5,
   "id": "e92125ac-1c90-4c9b-9202-85bef86fb2dd",
   "metadata": {},
   "outputs": [],
   "source": [
    "from transformers import pipeline,T5Tokenizer, T5ForConditionalGeneration, AutoTokenizer, AutoModelForCausalLM\n",
    "import torch"
   ]
  },
  {
   "cell_type": "code",
   "execution_count": 6,
   "id": "f01d651f-8105-4e6f-9e18-5c32dedf11b7",
   "metadata": {},
   "outputs": [],
   "source": [
    "model_id = \"tiiuae/falcon-rw-1b\""
   ]
  },
  {
   "cell_type": "code",
   "execution_count": 7,
   "id": "629f14d2-00f2-45aa-b400-405ade3e9f3d",
   "metadata": {},
   "outputs": [
    {
     "data": {
      "application/vnd.jupyter.widget-view+json": {
       "model_id": "218754887f2343b18440f24883d979dc",
       "version_major": 2,
       "version_minor": 0
      },
      "text/plain": [
       "vocab.json:   0%|          | 0.00/798k [00:00<?, ?B/s]"
      ]
     },
     "metadata": {},
     "output_type": "display_data"
    },
    {
     "name": "stderr",
     "output_type": "stream",
     "text": [
      "D:\\Hiring Chatbox\\env\\Lib\\site-packages\\huggingface_hub\\file_download.py:144: UserWarning: `huggingface_hub` cache-system uses symlinks by default to efficiently store duplicated files but your machine does not support them in C:\\Users\\Rithika\\.cache\\huggingface\\hub\\models--tiiuae--falcon-rw-1b. Caching files will still work but in a degraded version that might require more space on your disk. This warning can be disabled by setting the `HF_HUB_DISABLE_SYMLINKS_WARNING` environment variable. For more details, see https://huggingface.co/docs/huggingface_hub/how-to-cache#limitations.\n",
      "To support symlinks on Windows, you either need to activate Developer Mode or to run Python as an administrator. In order to activate developer mode, see this article: https://docs.microsoft.com/en-us/windows/apps/get-started/enable-your-device-for-development\n",
      "  warnings.warn(message)\n"
     ]
    },
    {
     "data": {
      "application/vnd.jupyter.widget-view+json": {
       "model_id": "c5280ae9aa0a459499aee7fa3b0f0480",
       "version_major": 2,
       "version_minor": 0
      },
      "text/plain": [
       "merges.txt:   0%|          | 0.00/456k [00:00<?, ?B/s]"
      ]
     },
     "metadata": {},
     "output_type": "display_data"
    },
    {
     "data": {
      "application/vnd.jupyter.widget-view+json": {
       "model_id": "c6cc398b26e8460ca213e53071eba54d",
       "version_major": 2,
       "version_minor": 0
      },
      "text/plain": [
       "config.json:   0%|          | 0.00/1.05k [00:00<?, ?B/s]"
      ]
     },
     "metadata": {},
     "output_type": "display_data"
    },
    {
     "data": {
      "application/vnd.jupyter.widget-view+json": {
       "model_id": "00a4c0503d0a49d6a590f96a10ff3b03",
       "version_major": 2,
       "version_minor": 0
      },
      "text/plain": [
       "pytorch_model.bin:   0%|          | 0.00/2.62G [00:00<?, ?B/s]"
      ]
     },
     "metadata": {},
     "output_type": "display_data"
    },
    {
     "data": {
      "application/vnd.jupyter.widget-view+json": {
       "model_id": "e272e36d74854804afa85afc91d9d2c0",
       "version_major": 2,
       "version_minor": 0
      },
      "text/plain": [
       "model.safetensors:   0%|          | 0.00/2.62G [00:00<?, ?B/s]"
      ]
     },
     "metadata": {},
     "output_type": "display_data"
    },
    {
     "data": {
      "application/vnd.jupyter.widget-view+json": {
       "model_id": "1c82d673d33f4b3f96ea4ce8856cdd56",
       "version_major": 2,
       "version_minor": 0
      },
      "text/plain": [
       "generation_config.json:   0%|          | 0.00/115 [00:00<?, ?B/s]"
      ]
     },
     "metadata": {},
     "output_type": "display_data"
    },
    {
     "name": "stderr",
     "output_type": "stream",
     "text": [
      "Error while downloading from https://cdn-lfs.hf.co/repos/2e/3a/2e3a78ac75bfe23c7017cb7792215cef508b32914302fce14d30c8b3b95f46fd/608af9d4e3a0fce805f3688d17b51630279929675ec3ed23ac3a3a1a4c963c4c?response-content-disposition=inline%3B+filename*%3DUTF-8%27%27model.safetensors%3B+filename%3D%22model.safetensors%22%3B&Expires=1744466311&Policy=eyJTdGF0ZW1lbnQiOlt7IkNvbmRpdGlvbiI6eyJEYXRlTGVzc1RoYW4iOnsiQVdTOkVwb2NoVGltZSI6MTc0NDQ2NjMxMX19LCJSZXNvdXJjZSI6Imh0dHBzOi8vY2RuLWxmcy5oZi5jby9yZXBvcy8yZS8zYS8yZTNhNzhhYzc1YmZlMjNjNzAxN2NiNzc5MjIxNWNlZjUwOGIzMjkxNDMwMmZjZTE0ZDMwYzhiM2I5NWY0NmZkLzYwOGFmOWQ0ZTNhMGZjZTgwNWYzNjg4ZDE3YjUxNjMwMjc5OTI5Njc1ZWMzZWQyM2FjM2EzYTFhNGM5NjNjNGM%7EcmVzcG9uc2UtY29udGVudC1kaXNwb3NpdGlvbj0qIn1dfQ__&Signature=Gl3AFI1sz-g0142wCmbqLabOSDAc3Okss7q2F8mApVU1VgrkHgbRHcS%7El7ko1oKwzfnmj3jre1dY9lvTP-tGFeTmmUG9SnaPCRgI%7Ek7XaA4Q1irJyFfe65yyLPkRucs-3NjhqC0qvOsLu5mpW%7E%7Ey7IW28vDIiMMomrwmbVbZIUths0hBi1Arlkvkszu4roRjPPB8P0jwVXp0hm2AyeVW5%7ECSrOuYslvNUGMgzofmuz-6ODPIQWspAy8v-mWFLIv9EzxLPkXxVKdBSvCDu1T8W825MJtD2-bPUeh%7EiauR-qoAegkxDXtJwWxboJ--gSff5w1BAy8exGRSHxMgc8Mqzg__&Key-Pair-Id=K3RPWS32NSSJCE: HTTPSConnectionPool(host='cdn-lfs.hf.co', port=443): Read timed out.\n",
      "Trying to resume download...\n"
     ]
    },
    {
     "data": {
      "application/vnd.jupyter.widget-view+json": {
       "model_id": "935873f06d414ed89fd4fbcc3b904db5",
       "version_major": 2,
       "version_minor": 0
      },
      "text/plain": [
       "model.safetensors:  74%|#######4  | 1.95G/2.62G [00:00<?, ?B/s]"
      ]
     },
     "metadata": {},
     "output_type": "display_data"
    }
   ],
   "source": [
    "tokenizer  =  AutoTokenizer.from_pretrained(model_id)\n",
    "model= AutoModelForCausalLM.from_pretrained(model_id)"
   ]
  },
  {
   "cell_type": "code",
   "execution_count": 8,
   "id": "e60e7f4a-3906-4c1f-9189-92f53e4f7d25",
   "metadata": {},
   "outputs": [
    {
     "name": "stderr",
     "output_type": "stream",
     "text": [
      "Device set to use cpu\n"
     ]
    }
   ],
   "source": [
    "generator = pipeline(\"text-generation\",model=model, tokenizer=tokenizer)"
   ]
  },
  {
   "cell_type": "code",
   "execution_count": 13,
   "id": "7cb5c624-0d40-4af3-93f7-c45b0d048019",
   "metadata": {},
   "outputs": [],
   "source": [
    "prompt = \"\"\"\n",
    "You are a hiring assistant. Based on the following tech stack, generate 3 **technical interview questions**.\n",
    "\n",
    "Tech Stack:\n",
    "- Languages: Python, JavaScript\n",
    "- Frameworks: Django\n",
    "- Databases: PostgreSQL\n",
    "- Tools: Docker\n",
    "- Hosting: DigitalOcean\n",
    "- DevOps: AWS\n",
    "- OS: Linux\n",
    "- DevOps Tools: Git, Puppet, Jenkins, Kubernetes-CNI\n",
    "- Security: Jenkins, Ansible, Puppet, Git\n",
    "- Other IT Skills: Chef, Terraform, Ansible\n",
    "\"\"\""
   ]
  },
  {
   "cell_type": "code",
   "execution_count": 14,
   "id": "c3a83c85-e9cb-4931-9171-fab8a8c8d203",
   "metadata": {},
   "outputs": [
    {
     "name": "stderr",
     "output_type": "stream",
     "text": [
      "Setting `pad_token_id` to `eos_token_id`:2 for open-end generation.\n"
     ]
    },
    {
     "name": "stdout",
     "output_type": "stream",
     "text": [
      "\n",
      "You are a hiring assistant. Based on the following tech stack, generate 3 **technical interview questions**.\n",
      "\n",
      "Tech Stack:\n",
      "- Languages: Python, JavaScript\n",
      "- Frameworks: Django\n",
      "- Databases: PostgreSQL\n",
      "- Tools: Docker\n",
      "- Hosting: DigitalOcean\n",
      "- DevOps: AWS\n",
      "- OS: Linux\n",
      "- DevOps Tools: Git, Puppet, Jenkins, Kubernetes-CNI\n",
      "- Security: Jenkins, Ansible, Puppet, Git\n",
      "- Other IT Skills: Chef, Terraform, Ansible\n",
      "- Continuous Integration: Jenkins, Git, Terraform\n",
      "- CI/CD Pipeline: Jenkins, Git, Jenkins/Git, Terraform, Ansible\n",
      "- Continuous Deployment: Git, Terraform, Jenkins, Ansible, Jenkins/Git\n",
      "- Other IT Skills: Jenkins, Ansible, Git, Jenkins/Git, Jenkins, Jenkins/Git, Jenkins, Jenkins\n",
      "- Testing: Git, Jenkins, Jenkins, Jenkins/Git, Jenkins, Jenkins, Jenkins, Jenkins, Jenkins, Jenkins, Jenkins, Jenkins, Jenkins, Jenkins, Jenkins, Jenkins\n",
      "- Other IT Skills: Jenkins, Jenkins, Jenkins, Jenkins, Jenkins, Jenkins, Jenkins, Jenkins, Git,\n"
     ]
    }
   ],
   "source": [
    "response = generator(prompt, max_length=256, temperature=0.7, do_sample=True)\n",
    "print(response[0]['generated_text'])"
   ]
  },
  {
   "cell_type": "code",
   "execution_count": null,
   "id": "5f752b0c-1b2e-4b69-b3b9-1688fa58c2fc",
   "metadata": {},
   "outputs": [],
   "source": []
  }
 ],
 "metadata": {
  "kernelspec": {
   "display_name": "Python 3 (ipykernel)",
   "language": "python",
   "name": "python3"
  },
  "language_info": {
   "codemirror_mode": {
    "name": "ipython",
    "version": 3
   },
   "file_extension": ".py",
   "mimetype": "text/x-python",
   "name": "python",
   "nbconvert_exporter": "python",
   "pygments_lexer": "ipython3",
   "version": "3.11.3"
  }
 },
 "nbformat": 4,
 "nbformat_minor": 5
}
