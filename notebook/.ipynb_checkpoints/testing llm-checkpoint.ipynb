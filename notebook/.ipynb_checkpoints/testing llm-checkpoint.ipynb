{
 "cells": [
  {
   "cell_type": "code",
   "execution_count": 1,
   "id": "43811205-aefc-42f0-8922-fdf9510da426",
   "metadata": {},
   "outputs": [],
   "source": [
    "from transformers import pipeline"
   ]
  },
  {
   "cell_type": "code",
   "execution_count": 2,
   "id": "14784415-7e92-40e7-ba37-aadf90d630f2",
   "metadata": {
    "scrolled": true
   },
   "outputs": [
    {
     "data": {
      "application/vnd.jupyter.widget-view+json": {
       "model_id": "c60fa66304a24fdeb61c3c381f6c2822",
       "version_major": 2,
       "version_minor": 0
      },
      "text/plain": [
       "config.json:   0%|          | 0.00/662 [00:00<?, ?B/s]"
      ]
     },
     "metadata": {},
     "output_type": "display_data"
    },
    {
     "name": "stderr",
     "output_type": "stream",
     "text": [
      "D:\\Hiring Chatbox\\env\\Lib\\site-packages\\huggingface_hub\\file_download.py:144: UserWarning: `huggingface_hub` cache-system uses symlinks by default to efficiently store duplicated files but your machine does not support them in C:\\Users\\Rithika\\.cache\\huggingface\\hub\\models--google--flan-t5-large. Caching files will still work but in a degraded version that might require more space on your disk. This warning can be disabled by setting the `HF_HUB_DISABLE_SYMLINKS_WARNING` environment variable. For more details, see https://huggingface.co/docs/huggingface_hub/how-to-cache#limitations.\n",
      "To support symlinks on Windows, you either need to activate Developer Mode or to run Python as an administrator. In order to activate developer mode, see this article: https://docs.microsoft.com/en-us/windows/apps/get-started/enable-your-device-for-development\n",
      "  warnings.warn(message)\n",
      "Xet Storage is enabled for this repo, but the 'hf_xet' package is not installed. Falling back to regular HTTP download. For better performance, install the package with: `pip install huggingface_hub[hf_xet]` or `pip install hf_xet`\n"
     ]
    },
    {
     "data": {
      "application/vnd.jupyter.widget-view+json": {
       "model_id": "e4e40cf2de2b43c09d6c4d3ff1c885f1",
       "version_major": 2,
       "version_minor": 0
      },
      "text/plain": [
       "model.safetensors:   0%|          | 0.00/3.13G [00:00<?, ?B/s]"
      ]
     },
     "metadata": {},
     "output_type": "display_data"
    },
    {
     "data": {
      "application/vnd.jupyter.widget-view+json": {
       "model_id": "abc6574908284029b979de9b8f9eff68",
       "version_major": 2,
       "version_minor": 0
      },
      "text/plain": [
       "generation_config.json:   0%|          | 0.00/147 [00:00<?, ?B/s]"
      ]
     },
     "metadata": {},
     "output_type": "display_data"
    },
    {
     "data": {
      "application/vnd.jupyter.widget-view+json": {
       "model_id": "cc45dbda54464da0bff6e6c49f1306c5",
       "version_major": 2,
       "version_minor": 0
      },
      "text/plain": [
       "tokenizer_config.json:   0%|          | 0.00/2.54k [00:00<?, ?B/s]"
      ]
     },
     "metadata": {},
     "output_type": "display_data"
    },
    {
     "name": "stderr",
     "output_type": "stream",
     "text": [
      "Xet Storage is enabled for this repo, but the 'hf_xet' package is not installed. Falling back to regular HTTP download. For better performance, install the package with: `pip install huggingface_hub[hf_xet]` or `pip install hf_xet`\n"
     ]
    },
    {
     "data": {
      "application/vnd.jupyter.widget-view+json": {
       "model_id": "048883d14e4a424c97cae71f9731f62c",
       "version_major": 2,
       "version_minor": 0
      },
      "text/plain": [
       "spiece.model:   0%|          | 0.00/792k [00:00<?, ?B/s]"
      ]
     },
     "metadata": {},
     "output_type": "display_data"
    },
    {
     "data": {
      "application/vnd.jupyter.widget-view+json": {
       "model_id": "5c95d80eadef465184a8861a265f9dfb",
       "version_major": 2,
       "version_minor": 0
      },
      "text/plain": [
       "tokenizer.json:   0%|          | 0.00/2.42M [00:00<?, ?B/s]"
      ]
     },
     "metadata": {},
     "output_type": "display_data"
    },
    {
     "data": {
      "application/vnd.jupyter.widget-view+json": {
       "model_id": "1e8ba2d2d6274c3a998dc759d4855e95",
       "version_major": 2,
       "version_minor": 0
      },
      "text/plain": [
       "special_tokens_map.json:   0%|          | 0.00/2.20k [00:00<?, ?B/s]"
      ]
     },
     "metadata": {},
     "output_type": "display_data"
    },
    {
     "name": "stderr",
     "output_type": "stream",
     "text": [
      "Device set to use cpu\n"
     ]
    }
   ],
   "source": [
    "generator = pipeline(\"text2text-generation\",model=\"google/flan-t5-large\")"
   ]
  },
  {
   "cell_type": "code",
   "execution_count": 3,
   "id": "fc9212bf-0054-444c-95a2-21dcaf7beb70",
   "metadata": {},
   "outputs": [
    {
     "name": "stdout",
     "output_type": "stream",
     "text": [
      "Collecting hf_xet\n",
      "  Downloading hf_xet-1.0.3-cp37-abi3-win_amd64.whl.metadata (498 bytes)\n",
      "Downloading hf_xet-1.0.3-cp37-abi3-win_amd64.whl (4.1 MB)\n",
      "   ---------------------------------------- 0.0/4.1 MB ? eta -:--:--\n",
      "   -- ------------------------------------- 0.3/4.1 MB ? eta -:--:--\n",
      "   ------- -------------------------------- 0.8/4.1 MB 2.6 MB/s eta 0:00:02\n",
      "   ------------ --------------------------- 1.3/4.1 MB 2.5 MB/s eta 0:00:02\n",
      "   ----------------- ---------------------- 1.8/4.1 MB 2.4 MB/s eta 0:00:01\n",
      "   ---------------------- ----------------- 2.4/4.1 MB 2.4 MB/s eta 0:00:01\n",
      "   --------------------------- ------------ 2.9/4.1 MB 2.4 MB/s eta 0:00:01\n",
      "   --------------------------------- ------ 3.4/4.1 MB 2.4 MB/s eta 0:00:01\n",
      "   -------------------------------------- - 3.9/4.1 MB 2.4 MB/s eta 0:00:01\n",
      "   ---------------------------------------- 4.1/4.1 MB 2.4 MB/s eta 0:00:00\n",
      "Installing collected packages: hf_xet\n",
      "Successfully installed hf_xet-1.0.3\n"
     ]
    }
   ],
   "source": [
    "a"
   ]
  },
  {
   "cell_type": "code",
   "execution_count": 4,
   "id": "7abae1de-c235-4c3a-9fb3-ac71b61d7b2d",
   "metadata": {},
   "outputs": [],
   "source": [
    "chat_flow = [\n",
    "    \"Hi! I am Your Hiring Assistant\",\n",
    "    \"what is your full name\",\n",
    "    \"what is your mobile number\",\n",
    "    \"what is your email address\",\n",
    "    \"How may years of experience do you have\",\n",
    "    \"what possition are you applying for \",\n",
    "    \"Tech Stack what are your technical skills(languages,frameworks,databases,tools)\"\n",
    "]"
   ]
  },
  {
   "cell_type": "code",
   "execution_count": 5,
   "id": "99e99f1a-d2cf-42f3-a39f-a9a56d700a87",
   "metadata": {},
   "outputs": [],
   "source": [
    "user_data = {}"
   ]
  },
  {
   "cell_type": "code",
   "execution_count": 8,
   "id": "52fa4b5c-6e34-48ef-a2f2-f2f85a783d40",
   "metadata": {},
   "outputs": [
    {
     "name": "stdout",
     "output_type": "stream",
     "text": [
      "Hi! I am Your Hiring Assistant\n"
     ]
    },
    {
     "name": "stdin",
     "output_type": "stream",
     "text": [
      "what is your full name ruthvik\n",
      "what is your mobile number 77807568\n",
      "what is your email address ruthvik@ymail,,com\n",
      "How may years of experience do you have 2\n",
      "what possition are you applying for  ml engineer\n",
      "Tech Stack what are your technical skills(languages,frameworks,databases,tools) python ,fastapi, mongodb, github\n"
     ]
    }
   ],
   "source": [
    "user_data = {}\n",
    "print(chat_flow[0])\n",
    "user_data[\"name\"]= input(chat_flow[1])\n",
    "user_data[\"mobile\"] = input(chat_flow[2])\n",
    "user_data[\"email\"] = input(chat_flow[3])\n",
    "user_data[\"exp\"] = input(chat_flow[4])\n",
    "user_data[\"jobrole\"] = input(chat_flow[5])\n",
    "user_data[\"teck_stack\"] = input(chat_flow[6])"
   ]
  },
  {
   "cell_type": "code",
   "execution_count": 17,
   "id": "18628b22-24dc-41d0-899a-e841d0122a36",
   "metadata": {},
   "outputs": [
    {
     "name": "stdout",
     "output_type": "stream",
     "text": [
      "Name:ruthvik\n",
      "Mobile:77807568\n",
      "Email:ruthvik@ymail,,com\n",
      "Exp:2\n",
      "Jobrole:ml engineer\n",
      "Teck_Stack:python ,fastapi, mongodb, github\n"
     ]
    }
   ],
   "source": [
    "for key,value in user_data.items():\n",
    "    print(f\"{key.title()}:{value}\")"
   ]
  },
  {
   "cell_type": "code",
   "execution_count": 29,
   "id": "5b1e0e26-b58b-4ff5-8569-2e615f306b4d",
   "metadata": {},
   "outputs": [],
   "source": [
    "prompt = f\"\"\"\n",
    "You are a hiring assistant for a technology recruitment agency. Based on the candidate's information, generate **exactly 3 technical interview questions** to assess their proficiency. The questions should be relevant to the candidate’s tech stack, suitable for their experience level, and aligned with their desired position. Each question should test a different aspect (e.g., concepts, coding, problem-solving).\n",
    "\n",
    "Candidate Details:\n",
    "- Experience: {user_data['exp']}\n",
    "- Position: {user_data['jobrole']}\n",
    "- Tech Stack: {user_data['teck_stack']}\n",
    "\n",
    "Output Format:\n",
    "1. [Question focusing on core concepts of the tech stack]\n",
    "2. [Question requiring practical coding or implementation]\n",
    "3. [Question about debugging, optimization, or problem-solving]\n",
    "\"\"\""
   ]
  },
  {
   "cell_type": "code",
   "execution_count": 30,
   "id": "32ec4eaa-0215-414e-aabe-3de7792b8759",
   "metadata": {},
   "outputs": [
    {
     "name": "stdout",
     "output_type": "stream",
     "text": [
      "[{'generated_text': '1. What is your favorite programming language? 2. What is your favorite programming language? 3. What is your favorite programming language?'}]\n"
     ]
    }
   ],
   "source": [
    "response = generator(prompt, max_length=512, temperature=0.7, num_beams=3)\n",
    "print(response)"
   ]
  },
  {
   "cell_type": "code",
   "execution_count": null,
   "id": "083b85ef-1d24-4b4e-a4b0-90110b8b76fd",
   "metadata": {},
   "outputs": [],
   "source": []
  }
 ],
 "metadata": {
  "kernelspec": {
   "display_name": "Python 3 (ipykernel)",
   "language": "python",
   "name": "python3"
  },
  "language_info": {
   "codemirror_mode": {
    "name": "ipython",
    "version": 3
   },
   "file_extension": ".py",
   "mimetype": "text/x-python",
   "name": "python",
   "nbconvert_exporter": "python",
   "pygments_lexer": "ipython3",
   "version": "3.11.3"
  }
 },
 "nbformat": 4,
 "nbformat_minor": 5
}
