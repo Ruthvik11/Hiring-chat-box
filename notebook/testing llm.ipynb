{
 "cells": [
  {
   "cell_type": "code",
   "execution_count": 32,
   "id": "43811205-aefc-42f0-8922-fdf9510da426",
   "metadata": {},
   "outputs": [],
   "source": [
    "from transformers import pipeline,T5Tokenizer, T5ForConditionalGeneration\n",
    "import torch"
   ]
  },
  {
   "cell_type": "code",
   "execution_count": 35,
   "id": "14784415-7e92-40e7-ba37-aadf90d630f2",
   "metadata": {
    "scrolled": true
   },
   "outputs": [
    {
     "name": "stderr",
     "output_type": "stream",
     "text": [
      "Device set to use cpu\n"
     ]
    }
   ],
   "source": [
    "generator = pipeline(\"text2text-generation\", model=\"google/flan-t5-large\")"
   ]
  },
  {
   "cell_type": "code",
   "execution_count": 3,
   "id": "fc9212bf-0054-444c-95a2-21dcaf7beb70",
   "metadata": {},
   "outputs": [
    {
     "name": "stdout",
     "output_type": "stream",
     "text": [
      "Collecting hf_xet\n",
      "  Downloading hf_xet-1.0.3-cp37-abi3-win_amd64.whl.metadata (498 bytes)\n",
      "Downloading hf_xet-1.0.3-cp37-abi3-win_amd64.whl (4.1 MB)\n",
      "   ---------------------------------------- 0.0/4.1 MB ? eta -:--:--\n",
      "   -- ------------------------------------- 0.3/4.1 MB ? eta -:--:--\n",
      "   ------- -------------------------------- 0.8/4.1 MB 2.6 MB/s eta 0:00:02\n",
      "   ------------ --------------------------- 1.3/4.1 MB 2.5 MB/s eta 0:00:02\n",
      "   ----------------- ---------------------- 1.8/4.1 MB 2.4 MB/s eta 0:00:01\n",
      "   ---------------------- ----------------- 2.4/4.1 MB 2.4 MB/s eta 0:00:01\n",
      "   --------------------------- ------------ 2.9/4.1 MB 2.4 MB/s eta 0:00:01\n",
      "   --------------------------------- ------ 3.4/4.1 MB 2.4 MB/s eta 0:00:01\n",
      "   -------------------------------------- - 3.9/4.1 MB 2.4 MB/s eta 0:00:01\n",
      "   ---------------------------------------- 4.1/4.1 MB 2.4 MB/s eta 0:00:00\n",
      "Installing collected packages: hf_xet\n",
      "Successfully installed hf_xet-1.0.3\n"
     ]
    }
   ],
   "source": [
    "a"
   ]
  },
  {
   "cell_type": "code",
   "execution_count": 4,
   "id": "7abae1de-c235-4c3a-9fb3-ac71b61d7b2d",
   "metadata": {},
   "outputs": [],
   "source": [
    "chat_flow = [\n",
    "    \"Hi! I am Your Hiring Assistant\",\n",
    "    \"what is your full name\",\n",
    "    \"what is your mobile number\",\n",
    "    \"what is your email address\",\n",
    "    \"How may years of experience do you have\",\n",
    "    \"what possition are you applying for \",\n",
    "    \"Tech Stack what are your technical skills(languages,frameworks,databases,tools)\"\n",
    "]"
   ]
  },
  {
   "cell_type": "code",
   "execution_count": 5,
   "id": "99e99f1a-d2cf-42f3-a39f-a9a56d700a87",
   "metadata": {},
   "outputs": [],
   "source": [
    "user_data = {}"
   ]
  },
  {
   "cell_type": "code",
   "execution_count": 8,
   "id": "52fa4b5c-6e34-48ef-a2f2-f2f85a783d40",
   "metadata": {},
   "outputs": [
    {
     "name": "stdout",
     "output_type": "stream",
     "text": [
      "Hi! I am Your Hiring Assistant\n"
     ]
    },
    {
     "name": "stdin",
     "output_type": "stream",
     "text": [
      "what is your full name ruthvik\n",
      "what is your mobile number 77807568\n",
      "what is your email address ruthvik@ymail,,com\n",
      "How may years of experience do you have 2\n",
      "what possition are you applying for  ml engineer\n",
      "Tech Stack what are your technical skills(languages,frameworks,databases,tools) python ,fastapi, mongodb, github\n"
     ]
    }
   ],
   "source": [
    "user_data = {}\n",
    "print(chat_flow[0])\n",
    "user_data[\"name\"]= input(chat_flow[1])\n",
    "user_data[\"mobile\"] = input(chat_flow[2])\n",
    "user_data[\"email\"] = input(chat_flow[3])\n",
    "user_data[\"exp\"] = input(chat_flow[4])\n",
    "user_data[\"jobrole\"] = input(chat_flow[5])\n",
    "user_data[\"teck_stack\"] = input(chat_flow[6])"
   ]
  },
  {
   "cell_type": "code",
   "execution_count": 17,
   "id": "18628b22-24dc-41d0-899a-e841d0122a36",
   "metadata": {},
   "outputs": [
    {
     "name": "stdout",
     "output_type": "stream",
     "text": [
      "Name:ruthvik\n",
      "Mobile:77807568\n",
      "Email:ruthvik@ymail,,com\n",
      "Exp:2\n",
      "Jobrole:ml engineer\n",
      "Teck_Stack:python ,fastapi, mongodb, github\n"
     ]
    }
   ],
   "source": [
    "for key,value in user_data.items():\n",
    "    print(f\"{key.title()}:{value}\")"
   ]
  },
  {
   "cell_type": "code",
   "execution_count": 29,
   "id": "5b1e0e26-b58b-4ff5-8569-2e615f306b4d",
   "metadata": {},
   "outputs": [],
   "source": [
    "prompt = f\"\"\"\n",
    "You are a hiring assistant for a technology recruitment agency. Based on the candidate's information, generate **exactly 3 technical interview questions** to assess their proficiency. The questions should be relevant to the candidate’s tech stack, suitable for their experience level, and aligned with their desired position. Each question should test a different aspect (e.g., concepts, coding, problem-solving).\n",
    "\n",
    "Candidate Details:\n",
    "- Experience: {user_data['exp']}\n",
    "- Position: {user_data['jobrole']}\n",
    "- Tech Stack: {user_data['teck_stack']}\n",
    "\n",
    "Output Format:\n",
    "1. [Question focusing on core concepts of the tech stack]\n",
    "2. [Question requiring practical coding or implementation]\n",
    "3. [Question about debugging, optimization, or problem-solving]\n",
    "\"\"\""
   ]
  },
  {
   "cell_type": "code",
   "execution_count": 36,
   "id": "32ec4eaa-0215-414e-aabe-3de7792b8759",
   "metadata": {},
   "outputs": [
    {
     "name": "stderr",
     "output_type": "stream",
     "text": [
      "D:\\Hiring Chatbox\\env\\Lib\\site-packages\\transformers\\generation\\configuration_utils.py:631: UserWarning: `do_sample` is set to `False`. However, `temperature` is set to `0.9` -- this flag is only used in sample-based generation modes. You should set `do_sample=True` or unset `temperature`.\n",
      "  warnings.warn(\n",
      "D:\\Hiring Chatbox\\env\\Lib\\site-packages\\transformers\\generation\\configuration_utils.py:636: UserWarning: `do_sample` is set to `False`. However, `top_p` is set to `0.9` -- this flag is only used in sample-based generation modes. You should set `do_sample=True` or unset `top_p`.\n",
      "  warnings.warn(\n"
     ]
    },
    {
     "name": "stdout",
     "output_type": "stream",
     "text": [
      "\n",
      "Technical Questions:\n",
      "1. Explain a core concept of python ,fastapi, mongodb, github.\n",
      "2. Write a simple function using python ,fastapi, mongodb, github.\n",
      "3. How would you debug an issue in python ,fastapi, mongodb, github?\n"
     ]
    }
   ],
   "source": [
    "response = generator(\n",
    "    prompt,\n",
    "    max_length=400,\n",
    "    num_beams=6,\n",
    "    temperature=0.9,\n",
    "    top_p=0.9,\n",
    "    no_repeat_ngram_size=3\n",
    ")[0][\"generated_text\"]\n",
    "\n",
    "questions = [q.strip() for q in response.split(\"\\n\") if q.strip() and q.startswith((\"1.\", \"2.\", \"3.\"))]\n",
    "if len(questions) != 3:\n",
    "    tech_stack = user_data[\"teck_stack\"]\n",
    "    questions = [\n",
    "        f\"1. Explain a core concept of {tech_stack}.\",\n",
    "        f\"2. Write a simple function using {tech_stack}.\",\n",
    "        f\"3. How would you debug an issue in {tech_stack}?\"\n",
    "    ]\n",
    "\n",
    "print(\"\\nTechnical Questions:\")\n",
    "print(\"\\n\".join(questions))"
   ]
  },
  {
   "cell_type": "code",
   "execution_count": null,
   "id": "083b85ef-1d24-4b4e-a4b0-90110b8b76fd",
   "metadata": {},
   "outputs": [],
   "source": []
  }
 ],
 "metadata": {
  "kernelspec": {
   "display_name": "Python 3 (ipykernel)",
   "language": "python",
   "name": "python3"
  },
  "language_info": {
   "codemirror_mode": {
    "name": "ipython",
    "version": 3
   },
   "file_extension": ".py",
   "mimetype": "text/x-python",
   "name": "python",
   "nbconvert_exporter": "python",
   "pygments_lexer": "ipython3",
   "version": "3.11.3"
  }
 },
 "nbformat": 4,
 "nbformat_minor": 5
}
